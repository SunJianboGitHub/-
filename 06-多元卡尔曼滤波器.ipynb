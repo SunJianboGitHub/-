{
 "cells": [
  {
   "cell_type": "markdown",
   "metadata": {},
   "source": [
    "# **多元卡尔曼滤波器**\n",
    "\n",
    "过滤多个随机变量"
   ]
  },
  {
   "cell_type": "code",
   "execution_count": 24,
   "metadata": {},
   "outputs": [
    {
     "data": {
      "text/html": [
       "\n",
       "        <style>\n",
       "        .output_wrapper, .output {\n",
       "            height:auto !important;\n",
       "            max-height:100000px;\n",
       "        }\n",
       "        .output_scroll {\n",
       "            box-shadow:none !important;\n",
       "            webkit-box-shadow:none !important;\n",
       "        }\n",
       "        </style>\n",
       "    "
      ],
      "text/plain": [
       "<IPython.core.display.HTML object>"
      ]
     },
     "execution_count": 24,
     "metadata": {},
     "output_type": "execute_result"
    }
   ],
   "source": [
    "%matplotlib inline\n",
    "\n",
    "#format the book\n",
    "import lean.book_format as book_format\n",
    "book_format.set_style()"
   ]
  },
  {
   "cell_type": "markdown",
   "metadata": {},
   "source": [
    "## **介绍**"
   ]
  },
  {
   "cell_type": "markdown",
   "metadata": {},
   "source": [
    "我们现在准备研究和实现完整的多元形式的卡尔曼滤波器。在上一章中，我们学会了如何用多元高斯表达多个随机变量之间的相关性，例如飞机的位置和速度。我们也了解了变量之间的相关性如何显著的改变后验估计。如果我们只是粗略知道飞机的位置和速度，但是它们是相关的，那么我们新的估计值是可以非常准确的。\n",
    "\n",
    "我更喜欢通过几个工作示例让你对滤波器原理产生直觉感受。我将会掩盖很多不必要的问题。我向您展示的某些内容仅适用于特殊情况，而其他内容则“神奇”-不清楚我是如何得出某个结果的。如果我从严格的、广义的方程开始，你会对所有这些术语的含义以及如何将它们应用于你的问题感到挠头。在后面的章节中，我将提供一个更严格的数学基础，届时我将不得不纠正我在本章中所做的近似值，或者提供我在这里没有涉及的其他信息。\n",
    "\n",
    "为了实现这一目标，我们将自己限制在可以用牛顿运动方程描述的问题子集上。这些滤波器称为离散化连续时间运动滤波器。在卡尔曼滤波数学一章中，我们将开发非牛顿系统的数学。"
   ]
  },
  {
   "cell_type": "markdown",
   "metadata": {},
   "source": [
    "## **牛顿运动方程**"
   ]
  },
  {
   "cell_type": "markdown",
   "metadata": {},
   "source": [
    "牛顿的运动方程告诉我们，给定一个系统的恒定速度 𝑣 ，我们可以计算出它在时间 𝑡 后的位置 𝑥 ：\n",
    "\n",
    "$$x = vt + x_0$$\n",
    "\n",
    "例如，如果我们从位置 13 开始，我们的速度是 10 m/s，我们行进 12 秒，我们的最终位置是 133（ 10×12+13 ）。\n",
    "\n",
    "我们可以将恒定加速度与这个方程结合起来\n",
    "\n",
    "$$x = \\frac{1}{2}at^2 + v_0t + x_0$$\n",
    "\n",
    "如果我们假设恒定的加加速度，我们会得到\n",
    "\n",
    "$$x = \\frac{1}{6}jt^3 +  \\frac{1}{2}a_0 t^2 + v_0 t + x_0$$\n",
    "\n",
    "这些方程是通过微积分方程生成的。给定一个恒定的速度 v，我们可以用方程计算随时间推移的行进距离\n",
    "\n",
    "$$x = vt + x_0$$\n",
    "\n",
    "我们可以推导出来\n",
    "\n",
    "$$\\begin{aligned} v &= \\frac{dx}{dt}\\\\\n",
    "dx &= v\\, dt \\\\\n",
    "\\int_{x_0}^x\\, dx &= \\int_0^t v\\, dt\\\\\n",
    "x - x_0 &= vt - 0\\\\\n",
    "x &= vt + x_0\\end{aligned}$$\n",
    "\n",
    "当您设计卡尔曼滤波器时，您首先要从描述系统动力学的微分方程组开始。大多数微分方程组不容易以这种方式积分。我们从牛顿方程开始，因为我们可以积分并获得闭式解，这使得卡尔曼滤波器更容易设计。另一个好处是牛顿方程是用于跟踪移动物体的正确方程，这是卡尔曼滤波器的主要用途之一。"
   ]
  },
  {
   "cell_type": "markdown",
   "metadata": {},
   "source": [
    "## **卡尔曼滤波算法**"
   ]
  },
  {
   "cell_type": "markdown",
   "metadata": {},
   "source": [
    "该算法与我们每章中使用的贝叶斯滤波算法相同。更新步骤稍微复杂一些，但当我们开始接触它时，我会解释原因。\n",
    "\n",
    "初始化\n",
    "\n",
    "- 1. 初始化滤波器状态(初始化状态变量)\n",
    "- 2. 初始化状态变量的信念(协方差矩阵)\n",
    "\n",
    "预测\n",
    "\n",
    "- 1. 使用过程模型去预测下一个时间步的状态(获得先验估计值)\n",
    "- 2. 调整信念以解释预测中的不确定性(先验估计的协方差矩阵)\n",
    "\n",
    "更新\n",
    "\n",
    "- 1. 获取测量值以及与准确性相关的信念(传感器的测量方差)\n",
    "- 2. 计算测量值与先验估计的残差\n",
    "- 3. 根据测量和先验估计的信念，计算卡尔曼增益系数\n",
    "- 4. 根据卡尔曼增益设置新的状态(后验估计值)\n",
    "- 5. 根据测量的确定性，更新状态的信念(后验估计的协方差)\n",
    "\n",
    "提醒一下，以下是该算法的图形描述："
   ]
  },
  {
   "cell_type": "code",
   "execution_count": 25,
   "metadata": {},
   "outputs": [
    {
     "data": {
      "image/png": "[encoded data removed]",
      "text/plain": [
       "<Figure size 792x216 with 1 Axes>"
      ]
     },
     "metadata": {},
     "output_type": "display_data"
    }
   ],
   "source": [
    "import lean.kf_book.book_plots as book_plots\n",
    "book_plots.show_residual_chart()"
   ]
  },
  {
   "cell_type": "markdown",
   "metadata": {},
   "source": [
    "单变量卡尔曼滤波器用单变量高斯表示状态。当然，多元卡尔曼滤波器将使用多元高斯滤波器来表示状态。我们在上一章中了解到，多元高斯使用向量表示均值，矩阵表示协方差。这意味着卡尔曼滤波器需要使用线性代数来执行估计。\n",
    "\n",
    "我不希望你记住这些方程，但我在下面列出了单变量和多变量方程。它们非常相似。"
   ]
  },
  {
   "cell_type": "markdown",
   "metadata": {},
   "source": [
    "<u>**预测**</u>\n",
    "\n",
    "$\\begin{array}{|l|l|l|}\n",
    "\\hline\n",
    "\\text{单变量} & \\text{单变量} & \\text{多元}\\\\\n",
    "& \\text{(卡尔曼形式)} & \\\\\n",
    "\\hline\n",
    "\\bar \\mu = \\mu + \\mu_{f_x} & \\bar x = x + dx & \\bar{\\mathbf x} = \\mathbf{Fx} + \\mathbf{Bu}\\\\\n",
    "\\bar\\sigma^2 = \\sigma_x^2 + \\sigma_{f_x}^2 & \\bar P = P + Q & \\bar{\\mathbf P} = \\mathbf{FPF}^\\mathsf T + \\mathbf Q \\\\\n",
    "\\hline\n",
    "\\end{array}$\n",
    "\n",
    "不用担心线性代数的细节，我们可以看到：\n",
    "\n",
    "$\\mathbf x,\\, \\mathbf P$ 是状态的均值和协方差。 它们对应于 $x$ and $\\sigma^2$.\n",
    "\n",
    "$\\mathbf F$ 是 *状态转移矩阵*. 当与 $\\bf x$ 相乘，它计算得到先验。\n",
    "\n",
    "$\\mathbf Q$ 过程模型的协方差矩阵. 它对应于 $\\sigma^2_{f_x}$。\n",
    "\n",
    "$\\mathbf B$ and $\\mathbf u$ 对我们来说是新的. 它允许我们对系统的控制输入进行建模。\n"
   ]
  },
  {
   "cell_type": "markdown",
   "metadata": {},
   "source": [
    "<u>**更新**</u>\n",
    "\n",
    "$\\begin{array}{|l|l|l|}\n",
    "\\hline\n",
    "\\text{单变量} & \\text{单变量} & \\text{多元}\\\\\n",
    "& \\text{(卡尔曼形式)} & \\\\\n",
    "\\hline\n",
    "& y = z - \\bar x & \\mathbf y = \\mathbf z - \\mathbf{H\\bar x} \\\\\n",
    "& K = \\frac{\\bar P}{\\bar P+R}&\n",
    "\\mathbf K = \\mathbf{\\bar{P}H}^\\mathsf T (\\mathbf{H\\bar{P}H}^\\mathsf T + \\mathbf R)^{-1} \\\\\n",
    "\\mu=\\frac{\\bar\\sigma^2\\, \\mu_z + \\sigma_z^2 \\, \\bar\\mu} {\\bar\\sigma^2 + \\sigma_z^2} & x = \\bar x + Ky & \\mathbf x = \\bar{\\mathbf x} + \\mathbf{Ky} \\\\\n",
    "\\sigma^2 = \\frac{\\sigma_1^2\\sigma_2^2}{\\sigma_1^2+\\sigma_2^2} & P = (1-K)\\bar P &\n",
    "\\mathbf P = (\\mathbf I - \\mathbf{KH})\\mathbf{\\bar{P}} \\\\\n",
    "\\hline\n",
    "\\end{array}$\n",
    "\n",
    "$\\mathbf H$ 是测量函数. 我们在本书中还没有见到过它，我会稍后解释它。如果你想象一下把 $\\mathbf H$ f从方程中删除, 你应该能够看到这些方程也是相似的。\n",
    "\n",
    "$\\mathbf z,\\, \\mathbf R$ 是测量的均值和噪声协方差. 在单变量滤波器中，它对应单变量的 $z$ and $\\sigma_z^2$ 。(我已经用 $x$ 代替了单变量方程的 $\\mu$，以使符号尽可能相似)。\n",
    "\n",
    "$\\mathbf y$ and $\\mathbf K$ 是残差和卡尔曼增益。"
   ]
  },
  {
   "cell_type": "markdown",
   "metadata": {},
   "source": [
    "细节将会与单变量滤波器不同，因为它们是向量和矩阵。但是概念完全相同。\n",
    "\n",
    "- 使用高斯来表示我们的状态的估计和误差\n",
    "- 使用高斯来表示测量值和它的误差\n",
    "- 使用高斯去表示过程模型\n",
    "- 使用过程模型去预测下一个时间步的状态(先验估计)\n",
    "- 根据测量和先验估计形成后验估计\n",
    "\n",
    "作为设计师，你的工作是设计状态 $\\left(\\mathbf x, \\mathbf P\\right)$, 过程 $\\left(\\mathbf F, \\mathbf Q\\right)$, 测量 $\\left(\\mathbf z, \\mathbf R\\right)$, 和测量函数 $\\mathbf H$. 如果系统有控制输入，比如机器人，你也将会设计 $\\mathbf B$ and $\\mathbf u$.\n",
    "\n",
    "我已经将卡尔曼滤波器的方程编程为 predict 和 update 函数在FilterPy 模块中。您将使用以下命令导入它们：\n",
    "\n",
    "```python\n",
    "from filterpy.kalman import predict, update\n",
    "```"
   ]
  },
  {
   "cell_type": "markdown",
   "metadata": {},
   "source": [
    "## **跟踪狗**"
   ]
  },
  {
   "cell_type": "markdown",
   "metadata": {},
   "source": [
    "让我们回到我们老生常谈的追踪狗的问题。这次我们将包括上一章的基本见解，并使用隐藏变量来改进我们的估计。我可以从数学开始，但让我们实现一个过滤器，边走边学。从表面上看，数学是不同的，也许比前几章更复杂，但想法都是一样的——我们只是多元高斯的乘法和加法。\n",
    "\n",
    "我们首先编写一个狗的运动仿真。这个仿真将会运行count个步骤，在每个时间步中，它向前移动接近1m。在每个步骤中，速度将会根据过程方差process_var而变化。更新位置之后，我们获取一个测量值，假设传感器的方差是z_var。该函数返回一个numpy数组，一个是位置(先验)，一个是测量值。"
   ]
  },
  {
   "cell_type": "code",
   "execution_count": 26,
   "metadata": {},
   "outputs": [],
   "source": [
    "import math\n",
    "import numpy as np\n",
    "from numpy.random import randn\n",
    "\n",
    "# 模拟狗的运动和传感器测量\n",
    "def compute_dog_data(z_var, process_var, count=1, dt=1.0):\n",
    "    x, vel = 0.0, 1.0                               # 狗的初始位置和速度\n",
    "    z_std = math.sqrt(z_var)                        # 传感器测量的标准差\n",
    "    p_std = math.sqrt(process_var)                  # 过程模型的标准差\n",
    "    \n",
    "    xs, zs = [], []\n",
    "    for _ in range(count):\n",
    "        v = vel + (randn() * p_std)                 # 每个时刻的实际速度\n",
    "        x += v * dt                                 # 每个时刻的实际位置\n",
    "        \n",
    "        xs.append(x)                                # 过程模型预测的狗的位置，先验估计\n",
    "        zs.append(x + randn() * z_std)              # 传感器测量的狗的位置，证据或者可能性\n",
    "        \n",
    "    return np.array(xs), np.array(zs)"
   ]
  },
  {
   "cell_type": "markdown",
   "metadata": {},
   "source": [
    "### **预测步骤**\n",
    "\n",
    "对于预测，我们需要设计状态变量和它的协方差、过程模型和过程噪声，以及可选的控制输入。我们会按顺序处理它们。"
   ]
  },
  {
   "cell_type": "markdown",
   "metadata": {},
   "source": [
    "#### **设计状态变量**\n",
    "\n",
    "我们之前使用高斯在一个维度上跟踪狗的位置。均值 $(\\mu)$表示最有可能的位置，方差($\\sigma^2$)表示位置的概率分布。位置是系统的状态，我们称$\\mu$ 为 *状态变量*。\n",
    "\n",
    "在这个问题中，我们将跟踪狗的位置和速度。这要求我们去使用由状态向量$\\mathbf x$以及相应的协方差矩阵$\\mathbf P$表示的多元高斯。\n",
    "\n",
    "状态变量要么是*观察变量*-由传感器直接测量，要么是由观察变量推断的*隐藏变量*。对于我们狗的跟踪问题，传感器仅仅测量位置信息，因此位置是观察变量、速度是隐藏变量。我们将很快学习如何跟踪隐藏变量。\n",
    "\n",
    "重要的是要了解跟踪位置和速度是一种设计选择，其含义和假设我们尚未准备好探索。例如，我们还可以跟踪加速度，甚至是颠簸。现在，回想一下，在上一章中，我们展示了在协方差矩阵中包含速度会导致位置方差小得多。我们将在本章后面学习卡尔曼滤波器如何计算隐藏变量的估计值。\n",
    "\n",
    "在单变量章节中，我们用标量值表示狗的位置（例如 $\\mu=3.27$）。在上一章中，我们学习了对多个变量使用多元高斯。例如，如果我们想指定 10.0 m 的位置和 4.5 m/s 的速度，我们可以这样写：\n",
    "\n",
    "$$\\mu = \\begin{bmatrix}10.0\\\\4.5\\end{bmatrix}$$\n",
    "\n",
    "卡尔曼滤波器是使用线性代数实现的。我们使用$n\\times 1$的矩阵(称为一个*向量*)去存储$n$ 个状态变量。对于狗跟踪问题，我们使用 $x$ 表示位置，使用 $x$ 的一阶导数 $\\dot x$ 表示速度。我使用牛顿的点符号来表示导数;$\\dot x$ 表示 x 相对于 t 的一阶导数：$\\dot x = \\frac{dx}{dt}$。卡尔曼滤波方程使用 $\\mathbf x$ 作为状态，因此我们将 $\\mathbf x$ 定义为：\n",
    "\n",
    "$$\\mathbf x =\\begin{bmatrix}x \\\\ \\dot x\\end{bmatrix}$$\n",
    "\n",
    "我们使用 $\\mathbf x$ 而不是 $\\mu$，但要认识到这是多元高斯的平均值。\n",
    "\n",
    "另一种写法是$\\mathbf x =\\begin{bmatrix}x & \\dot x\\end{bmatrix}^\\mathsf T$，因为行向量的转置是列向量。这种表示法在文本中更易于使用，因为它占用的垂直空间更小。\n",
    "\n",
    "$\\mathbf x$ 和位置 $x$ 巧合的具有相同的名称。如果我们在y轴方向对狗进行跟踪，我们会写 $\\mathbf x =\\begin{bmatrix}y & \\dot y\\end{bmatrix}^\\mathsf T$, 而不是  $\\mathbf y =\\begin{bmatrix}y & \\dot y\\end{bmatrix}^\\mathsf T$. $\\mathbf x$ 在卡尔曼滤波器文献中是一个标准的状态变量名称。并且，我们不会改变它以赋予它更有意义的名称。这种命名的一致性有利于与同行之间的交流。\n",
    "\n",
    "让我们对此进行编码，初始化 `x`非常简单。"
   ]
  },
  {
   "cell_type": "code",
   "execution_count": 27,
   "metadata": {},
   "outputs": [
    {
     "data": {
      "text/plain": [
       "array([[10. ],\n",
       "       [ 4.5]])"
      ]
     },
     "execution_count": 27,
     "metadata": {},
     "output_type": "execute_result"
    }
   ],
   "source": [
    "# 狗的初始位置和速度\n",
    "x = np.array([[10.0],\n",
    "              [4.50]])\n",
    "x"
   ]
  },
  {
   "cell_type": "markdown",
   "metadata": {},
   "source": [
    "我经常在代码中使用转置将行矩阵转换为列向量，因为我发现输入和阅读更容易："
   ]
  },
  {
   "cell_type": "code",
   "execution_count": 28,
   "metadata": {},
   "outputs": [
    {
     "data": {
      "text/plain": [
       "array([[10. ],\n",
       "       [ 4.5]])"
      ]
     },
     "execution_count": 28,
     "metadata": {},
     "output_type": "execute_result"
    }
   ],
   "source": [
    "x = np.array([[10.0, 4.50]]).T\n",
    "x"
   ]
  },
  {
   "cell_type": "markdown",
   "metadata": {},
   "source": [
    "但是，NumPy 将 1D 数组识别为向量(列向量)，因此我可以使用 1D 数组简化此行。"
   ]
  },
  {
   "cell_type": "code",
   "execution_count": 29,
   "metadata": {},
   "outputs": [
    {
     "data": {
      "text/plain": [
       "(array([10. ,  4.5]), (2,))"
      ]
     },
     "execution_count": 29,
     "metadata": {},
     "output_type": "execute_result"
    }
   ],
   "source": [
    "x = np.array([10.0, 4.50])\n",
    "x, x.shape"
   ]
  },
  {
   "cell_type": "markdown",
   "metadata": {},
   "source": [
    "所有数组的元素具有相同的数据类型，通常是float和int类型。如果列表中所有元素的类型都是int，那么创建的array的数据类型也是int，否则的话，它将是float类型的数组。我经常为了方便会指定一个数字为浮点型。"
   ]
  },
  {
   "cell_type": "code",
   "execution_count": 30,
   "metadata": {},
   "outputs": [
    {
     "data": {
      "text/plain": [
       "array([1., 0., 0., 0., 0., 0.])"
      ]
     },
     "execution_count": 30,
     "metadata": {},
     "output_type": "execute_result"
    }
   ],
   "source": [
    "np.array([1.0, 0, 0, 0, 0, 0])"
   ]
  },
  {
   "cell_type": "markdown",
   "metadata": {},
   "source": [
    "以下是一些示例。"
   ]
  },
  {
   "cell_type": "code",
   "execution_count": 31,
   "metadata": {},
   "outputs": [
    {
     "name": "stdout",
     "output_type": "stream",
     "text": [
      "[[19.]\n",
      " [48.]]\n",
      "\n"
     ]
    }
   ],
   "source": [
    "A = np.array([[1, 2], [3, 4]])          # 维度是2*2\n",
    "x = np.array([[10.0], [4.50]])          # 维度是2*1\n",
    "\n",
    "# 矩阵乘法\n",
    "print(np.dot(A, x))                     # 维度是2*1\n",
    "print()"
   ]
  },
  {
   "cell_type": "markdown",
   "metadata": {},
   "source": [
    "在 Python 3.5+ 中，我们有矩阵乘法 @，其中`np.dot(A, B) == A @ B`。它可能比你可能意识到的有用性要小一些，因为它要求`A` 和 `B`都是数组。在本书的数学中，这些变量中的一些变量是标量，因此  @ 的有效性经常丢失。"
   ]
  },
  {
   "cell_type": "code",
   "execution_count": 32,
   "metadata": {},
   "outputs": [
    {
     "name": "stdout",
     "output_type": "stream",
     "text": [
      "[[19.]\n",
      " [48.]]\n",
      "\n",
      "[[19.]\n",
      " [48.]]\n",
      "\n",
      "[19. 48.]\n",
      "\n"
     ]
    }
   ],
   "source": [
    "# 可选择的矩阵乘法\n",
    "print(A @ x)\n",
    "print()\n",
    "\n",
    "x = np.array([[10.0, 4.50]]).T\n",
    "print(A @ x)\n",
    "print()\n",
    "\n",
    "# 默认就是个列向量\n",
    "x = np.array([10.0, 4.50])\n",
    "print(A @ x)\n",
    "print()\n"
   ]
  },
  {
   "cell_type": "markdown",
   "metadata": {},
   "source": [
    "最后一个返回一个 1D 数组，但我编写了卡尔曼滤波器类来处理这个问题。回想起来，这可能会导致混乱，但它确实有效。"
   ]
  },
  {
   "cell_type": "markdown",
   "metadata": {},
   "source": [
    "#### **设计状态协方差**\n",
    "\n",
    "状态高斯的另一半是协方差矩阵 $\\mathbf P$。在单变量卡尔曼滤波器中，我们为 $\\sigma^2$ 指定了一个初始值，然后滤波器负责在将测量值添加到滤波器时更新其值。同样的事情发生在多维卡尔曼滤波器中。我们为 $\\mathbf P$ 指定一个初始值，过滤器在每个时间步去更新它。\n",
    "\n",
    "我们需要将方差设置为合理的值。例如，如果我们相当不确信初始位置，我们可以设置 $\\sigma_\\mathtt{pos}^2=500 m^2$。狗的最高速度为21 m/s。因此，在缺乏任何其它信息时，我们对速度可以设置为$3\\sigma_\\mathtt{vel}=21$, or $\\sigma_\\mathtt{vel}^2=7^2=49$。\n",
    "\n",
    "在上一章中，我们展示了位置和速度是相关的。但是，对于狗来说，它们的相关性如何？我们不知道。正如我们将看到的，过滤器会为我们计算这一点，因此我将协方差初始化为零。当然，如果你知道协方差，你应该使用它们。\n",
    "\n",
    "回想一下，协方差矩阵的对角线包含每个变量的方差，非对角线元素包含协方差。因此，我们有：\n",
    "\n",
    "$$\n",
    "\\mathbf P = \\begin{bmatrix}500 & 0 \\\\ 0&49\\end{bmatrix}\n",
    "$$\n",
    "\n",
    "我们可以使用 numpy.diag，它根据对角线的值创建一个对角矩阵。回想一下线性代数，对角矩阵是在非对角元素中具有零的矩阵。"
   ]
  },
  {
   "cell_type": "code",
   "execution_count": 33,
   "metadata": {},
   "outputs": [
    {
     "data": {
      "text/plain": [
       "array([[500.,   0.],\n",
       "       [  0.,  49.]])"
      ]
     },
     "execution_count": 33,
     "metadata": {},
     "output_type": "execute_result"
    }
   ],
   "source": [
    "# 状态变量的协方差矩阵\n",
    "P = np.diag([500.0, 49.0])\n",
    "P"
   ]
  },
  {
   "cell_type": "markdown",
   "metadata": {},
   "source": [
    "我本可以写："
   ]
  },
  {
   "cell_type": "code",
   "execution_count": 34,
   "metadata": {},
   "outputs": [
    {
     "data": {
      "text/plain": [
       "array([[500.,   0.],\n",
       "       [  0.,  49.]])"
      ]
     },
     "execution_count": 34,
     "metadata": {},
     "output_type": "execute_result"
    }
   ],
   "source": [
    "P = np.array([[500., 0.],\n",
    "              [0., 49.]])\n",
    "P"
   ]
  },
  {
   "cell_type": "markdown",
   "metadata": {},
   "source": [
    "我们完成了。我们将滤波器的状态表示为多元高斯，并在代码中实现。"
   ]
  },
  {
   "cell_type": "markdown",
   "metadata": {},
   "source": [
    "#### **设计过程模型**\n"
   ]
  },
  {
   "cell_type": "markdown",
   "metadata": {},
   "source": [
    "下一步是设计过程模型。它是一个描述系统行为的数学模型。滤波器使用它来预测离散时间步长后的状态。我们使用一组方程来描述系统动力学。\n",
    "\n",
    "在单变量章节中，我们对狗的运动建模：\n",
    "\n",
    "$$ x = v \\Delta t + x_0$$\n",
    "\n",
    "我们的实现如下：\n",
    "\n",
    "```python\n",
    "def predict(pos, movement):\n",
    "    return gaussian(pos.mean + movement.mean, \n",
    "                    pos.var + movement.var)\n",
    "```\n",
    "\n",
    "在本章中，我们将做同样的事情，使用多元高斯而不是单变量高斯。您可能会想象这种实现：\n",
    "\n",
    "$$ \\mathbf x = \\begin{bmatrix}5.4\\\\4.2\\end{bmatrix}, \\, \\, \n",
    "\\dot{\\mathbf x} =  \\begin{bmatrix}1.1\\\\0.\\end{bmatrix} \\\\\n",
    "\\mathbf x = \\dot{\\mathbf x}t + \\mathbf x$$\n",
    "\n",
    "但我们需要对此进行总结。卡尔曼滤波方程适用于任何线性系统，而不仅仅是牛顿系统。也许您正在过滤的系统是化工厂中的管道系统，给定管道中的流量由不同阀门设置的线性组合决定。\n",
    "\n",
    "$$\\mathtt{pipe_1} = 0.134(\\mathtt{valve}_1) + 0.41(\\mathtt{valve}_2 - \\mathtt{valve}_3) + 1.34$$\n",
    "$$\\mathtt{pipe_2} = 0.210(\\mathtt{valve}_2) - 0.62(\\mathtt{valve}_1 - \\mathtt{valve}_5) + 1.86$$\n",
    "\n",
    "线性代数有一种表达方程组的强大方法。拿这个系统：\n",
    "\n",
    "$$\\begin{cases}\n",
    "2x+3y=8\\\\4x-y=2\n",
    "\\end{cases}$$\n",
    "\n",
    "我们可以通过编写以下内容将其以矩阵形式表示：\n",
    "\n",
    "$$\\begin{bmatrix}2& 3 \\\\ 4&-1\\end{bmatrix} \\begin{bmatrix}x\\\\y\\end{bmatrix} = \\begin{bmatrix}8\\\\2\\end{bmatrix}$$\n",
    "\n",
    "如果在此等式中执行[矩阵乘法]((https://en.wikipedia.org/wiki/Matrix_multiplication#General_definition_of_the_matrix_product))，则结果将是上面的两个等式。在线性代数中，我们会将其写为 $\\mathbf{Ax}=\\mathbf B$，其中\n",
    "\n",
    "$$\\mathbf{A} = \\begin{bmatrix}2& 3 \\\\ 4&-1\\end{bmatrix},\\, \\mathbf x = \\begin{bmatrix}x\\\\y\\end{bmatrix}, \\mathbf B=\\begin{bmatrix}8\\\\2\\end{bmatrix}$$\n",
    "\n",
    "然后我们可以使用 SciPy 的包linalg来求解 $\\mathbf x$：\n"
   ]
  },
  {
   "cell_type": "code",
   "execution_count": 35,
   "metadata": {},
   "outputs": [
    {
     "data": {
      "text/plain": [
       "array([[1.],\n",
       "       [2.]])"
      ]
     },
     "execution_count": 35,
     "metadata": {},
     "output_type": "execute_result"
    }
   ],
   "source": [
    "from scipy.linalg import solve\n",
    "A = np.array([[2, 3], [4, -1]])\n",
    "b = np.array([[8], [2]])\n",
    "x = solve(A, b)\n",
    "x"
   ]
  },
  {
   "cell_type": "markdown",
   "metadata": {},
   "source": [
    "我们使用过程模型来执行预测，因为方程告诉我们，当给定当前状态时，可以获取下一个状态。卡尔曼滤波器使用此线性方程来实现这一点。其中，$\\mathbf{\\bar x}$是先验估计，或预测状态。\n",
    "\n",
    "$$\\mathbf{\\bar x} = \\mathbf{Fx}$$\n",
    "\n",
    "我们可以明确为\n",
    "\n",
    "$$\\begin{bmatrix} \\bar x \\\\ \\dot{\\bar x}\\end{bmatrix} = \\begin{bmatrix}? & ? \\\\? & ?\\end{bmatrix}\\begin{bmatrix}x\\\\\\dot x\\end{bmatrix}$$\n",
    "\n",
    "作为滤波器的设计者，我们的工作是指定$\\mathbf F$ 以便于 $\\bar{\\mathbf x}  = \\mathbf{Fx}$为我们的系统执行预测。为此，我们需要为每个状态变量提供一个方程。在我们的问题中$\\mathbf x = \\begin{bmatrix}x & \\dot x\\end{bmatrix}^\\mathtt{T}$，所以我们需要一个方程计算位置 $x$，另一个方程用于计算速度 $\\dot x$。我们已经知道了位置预测的方程：\n",
    "\n",
    "$$\\bar x = x + \\dot x \\Delta t$$\n",
    "\n",
    "我们的速度方程是什么？我们没有预测模型来预测我们的狗的速度将如何随时间变化。在这种情况下，我们假设它在预测之间保持不变。当然，这并不完全正确，但只要速度在每次预测中变化不大，您就会看到过滤器的性能非常好。所以我们说\n",
    "\n",
    "$$\\bar{\\dot x} = \\dot x$$\n",
    "\n",
    "这为我们系统提供了过程模型\n",
    "\n",
    "$$\\begin{cases}\n",
    "\\begin{aligned}\n",
    "\\bar x &= x + \\dot x \\Delta t \\\\\n",
    "\\bar{\\dot x} &= \\dot x\n",
    "\\end{aligned}\n",
    "\\end{cases}$$\n",
    "\n",
    "对于状态中的每一个变量，这里有一个正确的方程，隔离在左侧。我们需要用$\\bar{\\mathbf x}  = \\mathbf{Fx}$形式表达这组方程。重新排列术语可以更轻松地查看要执行的操作。\n",
    "\n",
    "$\\bar{\\mathbf x}  = \\mathbf{Fx}$\n",
    "$$\\begin{cases}\n",
    "\\begin{aligned}\n",
    "\\bar x &= 1x + &\\Delta t\\, \\dot x \\\\\n",
    "\\bar{\\dot x} &=0x + &1\\, \\dot x\n",
    "\\end{aligned}\n",
    "\\end{cases}$$\n",
    "\n",
    "我们可以将其以矩阵形式重写为\n",
    "\n",
    "$$\\begin{aligned}\n",
    "\\begin{bmatrix}\\bar x \\\\ \\bar{\\dot x}\\end{bmatrix} &= \\begin{bmatrix}1&\\Delta t  \\\\ 0&1\\end{bmatrix}  \\begin{bmatrix}x \\\\ \\dot x\\end{bmatrix}\\\\\n",
    "\\mathbf{\\bar x} &= \\mathbf{Fx}\n",
    "\\end{aligned}$$\n",
    "\n",
    "$\\mathbf F$ 被称为 *状态转换函数* 或者 *状态转移矩阵*。 在后面的章节中，它将是一个真正的函数，而不是一个矩阵，所以称它为函数更通用一些。"
   ]
  },
  {
   "cell_type": "code",
   "execution_count": 36,
   "metadata": {},
   "outputs": [
    {
     "data": {
      "text/plain": [
       "array([[1. , 0.1],\n",
       "       [0. , 1. ]])"
      ]
     },
     "execution_count": 36,
     "metadata": {},
     "output_type": "execute_result"
    }
   ],
   "source": [
    "# 初始化状态转移矩阵\n",
    "dt = 0.1\n",
    "F = np.array([[1, dt],\n",
    "              [0, 1]])\n",
    "F"
   ]
  },
  {
   "cell_type": "markdown",
   "metadata": {},
   "source": [
    "让我们测试一下！FilterPy模块有一个predict方法通过计算$\\mathbf{\\bar x} = \\mathbf{Fx}$执行预测。让我们调用它，看看会发生什么。我们将位置设置为 10.0，速度设置为 4.5 米/秒。我们已经定义了dt = 0.1 ，这意味着时间步长为 0.1 秒，因此我们预料预测之后新位置为 10.45 米。速度应保持不变。"
   ]
  },
  {
   "cell_type": "code",
   "execution_count": 37,
   "metadata": {},
   "outputs": [
    {
     "name": "stdout",
     "output_type": "stream",
     "text": [
      "x =  [10.45  4.5 ] P =  [[500.49   4.9 ]\n",
      " [  4.9   49.  ]]\n"
     ]
    }
   ],
   "source": [
    "from filterpy.kalman import predict\n",
    "\n",
    "x = np.array([10.0, 4.5])                       # 状态变量\n",
    "P = np.diag([500, 49])                          # 状态变量协方差矩阵\n",
    "F = np.array([[1, dt],\n",
    "              [0, 1]])                          # 过程模型，状态转移矩阵\n",
    "\n",
    "x, P = predict(x=x, P=P, F=F, Q=0)\n",
    "print('x = ', x, 'P = ', P)"
   ]
  },
  {
   "cell_type": "markdown",
   "metadata": {},
   "source": [
    "这奏效了。如果我们连续调用predict()几次，则每次都会更新该值。"
   ]
  },
  {
   "cell_type": "code",
   "execution_count": 38,
   "metadata": {},
   "outputs": [
    {
     "name": "stdout",
     "output_type": "stream",
     "text": [
      "x =  [10.9  4.5]\n",
      "x =  [11.35  4.5 ]\n",
      "x =  [11.8  4.5]\n",
      "x =  [12.25  4.5 ]\n"
     ]
    }
   ],
   "source": [
    "for _ in range(4):\n",
    "    x, P = predict(x=x, P=P, F=F, Q=0)\n",
    "    print('x = ', x)"
   ]
  },
  {
   "cell_type": "markdown",
   "metadata": {},
   "source": [
    "predict()函数计算预测的均值和协方差。这是 𝐏 经过五次预测的值，我们在卡尔曼滤波方程中，用$\\mathbf{\\bar P}$ 表示。"
   ]
  },
  {
   "cell_type": "code",
   "execution_count": 39,
   "metadata": {},
   "outputs": [
    {
     "name": "stdout",
     "output_type": "stream",
     "text": [
      "[[512.25  24.5 ]\n",
      " [ 24.5   49.  ]]\n"
     ]
    }
   ],
   "source": [
    "print(P)"
   ]
  },
  {
   "cell_type": "markdown",
   "metadata": {},
   "source": [
    "检查对角线元素的值，显示我们的位置方差变大了。在没有测量的情况下，我们已经进行了5次预测步骤，并且我们的不确定性增加了。非对角线元素变成了非零-卡尔曼滤波器检测到了位置和速度之间的相关性！速度的方差并没有改变。\n",
    "\n",
    "在这里，我绘制了预测前后的协方差。初始值为纯红色，先验（预测）为黑色虚线。我更改了协方差和时间步长，以更好地说明更改。"
   ]
  },
  {
   "cell_type": "code",
   "execution_count": 40,
   "metadata": {},
   "outputs": [
    {
     "data": {
      "image/png": "[encoded data removed]",
      "text/plain": [
       "<Figure size 648x288 with 1 Axes>"
      ]
     },
     "metadata": {
      "needs_background": "light"
     },
     "output_type": "display_data"
    }
   ],
   "source": [
    "from filterpy.stats import plot_covariance_ellipse\n",
    "\n",
    "dt = 0.3\n",
    "F = np.array([[1, dt], [0, 1]])\n",
    "x = np.array([10.0, 4.5])\n",
    "P = np.diag([500, 500])\n",
    "plot_covariance_ellipse(x, P, edgecolor='r')\n",
    "x, P = predict(x, P, F, Q=0)\n",
    "plot_covariance_ellipse(x, P, edgecolor='k', ls='dashed')"
   ]
  },
  {
   "cell_type": "markdown",
   "metadata": {},
   "source": [
    "您可以看到椭圆的中心移动了少量（从 10 到 11.35），因为位置发生了变化。椭圆也拉长，显示了位置和速度之间的相关性。滤波器如何计算新值 $\\mathbf{\\bar P}$，它基于什么？请注意，我每次都将过程噪声`Q`设置为零，因此这不是由于我添加了噪声。现在讨论这个问题还为时过早，但回想一下，到目前为止，在每个过滤器中，预测步骤都会导致信息丢失。这里也是如此。一旦我们涵盖了更多的内容，我会给你细节。"
   ]
  },
  {
   "cell_type": "markdown",
   "metadata": {},
   "source": [
    "#### **设计过程噪声**"
   ]
  },
  {
   "cell_type": "markdown",
   "metadata": {},
   "source": [
    "快速回顾过程噪声。一辆汽车在打开巡航控制的情况下沿着道路行驶;它应该以恒定的速度行驶。我们对此进行建模 $\\bar x_k=\\dot x_k\\Delta t + x_{k-1}$。但是，它受到许多未知因素的影响。巡航控制无法完美地保持恒定速度。风会影响汽车，山丘和坑洼也是如此。乘客摇下车窗，改变汽车的拖曳曲线。\n",
    "\n",
    "$$\\dot{\\mathbf x} = f(\\mathbf x) + w$$\n",
    "\n",
    "其中 $f(\\mathbf x)$ 对状态转换进行建模，并且 $w$ 是 *过程模型的白噪声*."
   ]
  },
  {
   "cell_type": "markdown",
   "metadata": {},
   "source": [
    "我们将在卡尔曼滤波数学一章中学习如何从一组微分方程到卡尔曼滤波矩阵。在本章中，我们利用了牛顿已经为我们推导出运动方程的事实。现在，您只需要知道我们通过添加过程噪声协方差矩阵来考虑系统中的噪声 𝐐到协方差 𝐏.我们不添加任何东西到𝐱，因为噪声是白色的 - 这意味着噪声的平均值将为 0。如果平均值为 0， 𝐱不会改变。\n",
    "\n",
    "单变量的卡尔曼滤波器使用`variance = variance + process_noise`去计算预测步的方差。多元卡尔曼滤波器也做类似的事情，本质上就是`P = P + Q`。我之所以说“本质上”，是因为协方差方程中还有其他与噪声无关的项，我们将在后面看到。\n",
    "\n",
    "推导过程噪声矩阵可能要求很高，我们将把它推迟到卡尔曼数学章节。现在知道 $\\mathbf Q$ 等于白噪声的预期值$w$，计算方式为 $\\mathbf Q = \\mathbb E[\\mathbf{ww}^\\mathsf T]$。在本章中，我们将重点介绍修改此矩阵如何改变滤波器的行为。"
   ]
  },
  {
   "cell_type": "markdown",
   "metadata": {},
   "source": [
    "对于本章的运动学问题，FilterPy 模块提供算函数去计算 $\\mathbf Q$。`Q_discrete_white_noise`需要3个参数。`dim`, 指定了矩阵的维度, `dt`,是以秒为单位的时间步长,  `var`, 噪声的方差。简而言之，它在给定时间段内的噪声离散化，假设我们将在后面讨论。此代码计算以方差为 2.35、时间步长为 1 秒的白噪声$\\mathbf Q$。"
   ]
  },
  {
   "cell_type": "code",
   "execution_count": 41,
   "metadata": {},
   "outputs": [
    {
     "name": "stdout",
     "output_type": "stream",
     "text": [
      "[[0.588 1.175]\n",
      " [1.175 2.35 ]]\n"
     ]
    }
   ],
   "source": [
    "from filterpy.common import Q_discrete_white_noise\n",
    "\n",
    "# 初始化过程噪声(白噪声)\n",
    "Q = Q_discrete_white_noise(dim=2, dt=1, var=2.35)\n",
    "print(Q)"
   ]
  },
  {
   "cell_type": "markdown",
   "metadata": {},
   "source": [
    "#### **设计控制函数**"
   ]
  },
  {
   "cell_type": "markdown",
   "metadata": {},
   "source": [
    "卡尔曼滤波器不仅过滤数据，还允许我们去合并机器人和飞机等系统的控制输入。假设我们正在控制一个机器人。在每个时间步长，我们都会根据机器人的当前位置与期望位置向机器人发送转向和速度信号。卡尔曼滤波方程将这些知识整合到滤波方程中，根据当前速度和驱动电机的控制输入创建预测位置。请记住，我们从不丢弃信息。\n",
    "\n",
    "对于线性系统，控制输入的影响可以描述为一组线性方程组，我们可以用线性代数将其表示为：\n",
    "\n",
    "$$\\Delta\\mathbf x = \\mathbf{Bu}$$\n",
    "\n",
    "这里 $\\mathbf u$ 是 *控制输入*, 并且 $\\mathbf B$ 是 *控制输入模型* or *控制函数*. For example, $\\mathbf u$ 可能是控制车轮电机转动速度的电压, 并且乘以 $\\mathbf B$ 得到收益率 $\\Delta[\\begin{smallmatrix}x\\\\\\dot x\\end{smallmatrix}]$. 换句话说, 它必须计算由于控制输入而变化，$\\mathbf x$ 改变了多少。\n",
    "\n",
    "因此，针对先验均值，完整卡尔曼滤波方程为：\n",
    "\n",
    "$$\\mathbf{\\bar x} = \\mathbf{Fx} + \\mathbf{Bu}$$\n",
    "\n",
    "这是调用 KalmanFilter.predict() 时计算的方程。\n",
    "\n",
    "您的狗可能经过训练以响应语音命令。所有可用的证据表明我的狗没有任何控制输入，所以我设置 $𝐁$ 归零。在Python中，我们写：\n"
   ]
  },
  {
   "cell_type": "code",
   "execution_count": 42,
   "metadata": {},
   "outputs": [
    {
     "name": "stdout",
     "output_type": "stream",
     "text": [
      "x =  [12.7  4.5]\n",
      "P =  [[680.587 301.175]\n",
      " [301.175 502.35 ]]\n"
     ]
    }
   ],
   "source": [
    "# 我的狗不听我的命令\n",
    "B = 0\n",
    "u = 0\n",
    "x, P = predict(x, P, F, Q, B, u)\n",
    "print('x = ', x)\n",
    "print('P = ', P)"
   ]
  },
  {
   "cell_type": "markdown",
   "metadata": {},
   "source": [
    "设置 $\\mathbf B$ and $\\mathbf u$ 为零是不必要的，因为  `predict` 使用0作为默认值:\n"
   ]
  },
  {
   "cell_type": "code",
   "execution_count": 43,
   "metadata": {},
   "outputs": [
    {
     "data": {
      "text/plain": [
       "array([[ True,  True],\n",
       "       [ True,  True]])"
      ]
     },
     "execution_count": 43,
     "metadata": {},
     "output_type": "execute_result"
    }
   ],
   "source": [
    "predict(x, P, F, Q)[0] == predict(x, P, F, Q, B, u)[0]\n",
    "predict(x, P, F, Q)[1] == predict(x, P, F, Q, B, u)[1]"
   ]
  },
  {
   "cell_type": "markdown",
   "metadata": {},
   "source": [
    "#### **预测：总结**"
   ]
  },
  {
   "cell_type": "markdown",
   "metadata": {},
   "source": [
    "作为设计者，你的工作是设定下面这些矩阵：\n",
    "\n",
    "* $\\mathbf x$, $\\mathbf P$: 状态和协方差\n",
    "* $\\mathbf F$,  $\\mathbf Q$: 过程模型和噪声协方差\n",
    "* $\\mathbf{B,u}$: 可选, 控制矩阵 and 控制输入"
   ]
  },
  {
   "cell_type": "markdown",
   "metadata": {},
   "source": [
    "### **更新步骤**\n",
    "\n",
    "现在我们可以实现过滤器的更新步骤。您只需要再提供两个矩阵，它们很容易理解。"
   ]
  },
  {
   "cell_type": "markdown",
   "metadata": {},
   "source": [
    "#### **设计测量函数**"
   ]
  },
  {
   "cell_type": "markdown",
   "metadata": {},
   "source": [
    "卡尔曼滤波器在我们所谓的**测量空间**中计算更新步骤。我们在单变量章节中大多忽略了这个问题，因为它增加了复杂性。我们使用报告其位置的传感器跟踪狗的位置。计算残差很容易 - 从测量中减去滤波器的预测位置：\n",
    "\n",
    "$$ \\mathtt{residual} = \\mathtt{measured\\, \\, position} - \\mathtt{predicted\\, \\, position}$$\n",
    "\n",
    "我们需要计算残差，因为我们按卡尔曼增益对其进行缩放以获得新的估计值。\n",
    "\n",
    "如果我们尝试使用温度计跟踪温度，该温度计输出与温度读数相对应的电压，会发生什么？残差计算的方程将毫无意义;您不能从电压中减去温度。\n",
    "\n",
    "$$ \\mathtt{residual} = \\mathtt{voltage} - \\mathtt{temperature}\\;\\;\\;(NONSENSE!)$$\n",
    "\n",
    "我们需要将温度转换为电压，以便执行减法。对于温度计，我们可以这样写：\n",
    "\n",
    "```python\n",
    "CELSIUS_TO_VOLTS = 0.21475\n",
    "residual = voltage - (CELSIUS_TO_VOLTS * predicted_temperature)\n",
    "```\n",
    "\n",
    "卡尔曼滤波器通过让您提供一个将状态转换为测量的测量函数来概括这个问题。\n",
    "\n",
    "**我们为什么要在测量领域工作？为什么不在状态空间中通过将电压转换为温度来工作，从而使残差成为温度差异?**\n",
    "\n",
    "我们不能这样做，因为大多数测量值都是不可逆的。跟踪问题的状态包含隐藏变量 $\\dot x$ ，无法将位置测量转换为包含速度的状态。另一方面，将包含位置和速度的状态转换为仅包含位置的等效“测量”是微不足道的。我们必须在测量空间中工作，以使残差的计算成为可能。\n",
    "\n",
    "测量 $\\mathbf z$ 和状态 $\\mathbf x$ 是向量，因此我们需要使用矩阵来执行转换。执行此步骤的卡尔曼滤波方程为：\n",
    "\n",
    "$$\\mathbf y = \\mathbf z - \\mathbf{H \\bar x}$$\n",
    "\n",
    "其中 $\\mathbf y$ 是残差, $\\mathbf{\\bar x}$ 是先验, $\\mathbf z$ 是测量值, and $\\mathbf H$ 是测量函数(将状态映射到测量空间)。 所以我们去先验, 将其乘以 $\\mathbf H$, 然后从测量值中减去。这给了我们在测量空间中测量值与预测的偏差。\n",
    "\n",
    "\n",
    "<img src=\"lean/figs/residual_chart_with_h.png\">"
   ]
  },
  {
   "cell_type": "markdown",
   "metadata": {},
   "source": [
    "我们需要设计  $\\mathbf H$ 以便于 $\\mathbf{H\\bar x}$ 产生测量值。对于这个问题，我们有一个测量位置的传感器，所以 $\\mathbf z$ 将是拥有一个变量向量：\n",
    "\n",
    "$$\\mathbf z = \\begin{bmatrix}z\\end{bmatrix}$$\n",
    "\n",
    "残差方程的形式为:\n",
    "\n",
    "$$\n",
    "\\begin{aligned}\n",
    "\\textbf{y} &= \\mathbf z - \\mathbf{H\\bar x}  \\\\\n",
    "\\begin{bmatrix}y \\end{bmatrix} &= \\begin{bmatrix}z\\end{bmatrix} - \\begin{bmatrix}?&?\\end{bmatrix} \\begin{bmatrix}x \\\\ \\dot x\\end{bmatrix}\n",
    "\\end{aligned}\n",
    "$$\n",
    "\n",
    "$\\mathbf H$ 必须是 1x2 维度的矩阵，因为 $\\mathbf{Hx}$ 的维度是 1x1. 回想矩阵乘法， $m\\times n$ 矩阵乘以 $n\\times p$ 矩阵，产生$m\\times p$ 维度的矩阵。\n",
    "\n",
    "我们想要位置 $x$ 乘以 1 得到相应的位置的测量值。我们不需要使用速度来找到相应的测量值，因此我们将 $\\dot x$ 乘以 0 。\n",
    "\n",
    "$$\\begin{aligned}\n",
    "\\textbf{y} &= \\mathbf z - \\begin{bmatrix}1&0\\end{bmatrix} \\begin{bmatrix}x \\\\ \\dot x\\end{bmatrix} \\\\\n",
    "&= [z] - [x]\n",
    "\\end{aligned}$$\n",
    "\n",
    "因此，对于我们的卡尔曼滤波器，我们设置：\n",
    "\n",
    "$$\\mathbf H=\\begin{bmatrix}1&0\\end{bmatrix}$$"
   ]
  },
  {
   "cell_type": "code",
   "execution_count": 44,
   "metadata": {},
   "outputs": [
    {
     "data": {
      "text/plain": [
       "(array([[1., 0.]]), (1, 2))"
      ]
     },
     "execution_count": 44,
     "metadata": {},
     "output_type": "execute_result"
    }
   ],
   "source": [
    "# 测量函数，将状态映射到测量空间\n",
    "H = np.array([[1., 0.]])\n",
    "H, H.shape"
   ]
  },
  {
   "cell_type": "markdown",
   "metadata": {},
   "source": [
    "我们已经设计了卡尔曼滤波器大部分内容。剩下的就是对传感器中的噪声进行建模。"
   ]
  },
  {
   "cell_type": "markdown",
   "metadata": {},
   "source": [
    "#### **设计测量(Measurement)**"
   ]
  },
  {
   "cell_type": "markdown",
   "metadata": {},
   "source": [
    "测量表示为$\\mathbf z$，它是测量的平均值，$\\mathbf R$是测量的协方差。\n",
    "\n",
    "$\\mathbf z$ 很容易。它包含所有的测量值为一个向量。我们仅仅有一个测量值，因此我们有：\n",
    "\n",
    "$$\\mathbf z = \\begin{bmatrix}z\\end{bmatrix}$$\n",
    "\n",
    "如果我们有两个传感器或测量值，我们将有：\n",
    "\n",
    "$$\\mathbf z = \\begin{bmatrix}z_1 \\\\ z_2\\end{bmatrix}$$\n",
    "\n",
    "测量噪声矩阵将传感器中的噪声建模为协方差矩阵。在实践中，这可能很困难。一个复杂的系统可能有许多传感器，它们之间的相关性可能不清楚，通常它们的噪声不是纯粹的高斯。例如，如果温度较高，则传感器可能会偏向于读取高读数，因此噪声在平均值的两侧分布不均匀。我们稍后将学习处理这些问题。\n",
    "\n",
    "卡尔曼滤波方程使用协方差矩阵 $\\mathbf R$ 表示测量噪声。矩阵的维度是 $m{\\times}m$, 其中 $m$ 是传感器的数量。它是一个协方差矩阵，用于表示传感器之间的相关性。我们只有 1 个传感器，因此 $\\mathbf R$ 是：\n",
    "\n",
    "$$R = \\begin{bmatrix}\\sigma^2_z\\end{bmatrix}$$\n",
    "\n",
    "如果 $\\sigma^2_z$ 是 5 m$^2$，我们会有 $R = \\begin{bmatrix}5\\end{bmatrix}$. \n",
    "\n",
    "如果我们有两个位置传感器，第一个位置传感器的方差为 5 m$^2$ ，第二个方差为 5 m$^2$ ，我们会写\n",
    "\n",
    "$$R = \\begin{bmatrix}5&0\\\\0&3\\end{bmatrix}$$\n",
    "\n",
    "我们将方差放在对角线上，因为这是一个协方差矩阵，其中方差位于对角线上，协方差（如果有的话）位于非对角线元素中。在这里，我们假设两个传感器之间的噪声没有相关性，因此协方差为 0。\n",
    "\n",
    "对于我们的问题，我们只有一个传感器，因此我们可以将其实现为："
   ]
  },
  {
   "cell_type": "code",
   "execution_count": 45,
   "metadata": {},
   "outputs": [
    {
     "data": {
      "text/plain": [
       "(array([[5.]]), (1, 1))"
      ]
     },
     "execution_count": 45,
     "metadata": {},
     "output_type": "execute_result"
    }
   ],
   "source": [
    "# 传感器的噪声，测量噪声\n",
    "R = np.array([[5.]])\n",
    "R, R.shape"
   ]
  },
  {
   "cell_type": "markdown",
   "metadata": {},
   "source": [
    "我们通过调用 update 来执行更新"
   ]
  },
  {
   "cell_type": "code",
   "execution_count": 46,
   "metadata": {},
   "outputs": [
    {
     "name": "stdout",
     "output_type": "stream",
     "text": [
      "x =  [ 1.085 -0.64 ]\n"
     ]
    }
   ],
   "source": [
    "from filterpy.kalman import update\n",
    "\n",
    "z = 1.0\n",
    "x, P = update(x, P, z, R, H)\n",
    "print('x = ', x)"
   ]
  },
  {
   "cell_type": "markdown",
   "metadata": {},
   "source": [
    "跟踪所有这些变量是很麻烦的，所以 FilterPy 模块也用KalmanFilter类实现了卡尔曼过滤器。我将在本书的其余部分使用该类，但我想让你们看到这些函数的过程形式，因为我知道你们中的一些人不是面向对象编程的粉丝。"
   ]
  },
  {
   "cell_type": "markdown",
   "metadata": {},
   "source": [
    "## 实现卡尔曼滤波器"
   ]
  },
  {
   "cell_type": "markdown",
   "metadata": {},
   "source": [
    "我已经为您提供了滤波器的所有代码，但现在让我们将其收集在一个地方。首先，我们构造一个`KalmanFilter`对象。我们必须用`dim_x`参数指定状态中的变量数,用`dim_z`指定测量值的数量。我们有两个状态变量和一个测量值。所以我们这样写：\n",
    "\n",
    "```python\n",
    "from filterpy.kalman import KalmanFilter\n",
    "dog_filter = KalmanFilter(dim_x=2, dim_z=1)\n",
    "```\n",
    "这将创建一个对象，其中包含所有卡尔曼滤波矩阵的默认值："
   ]
  },
  {
   "cell_type": "code",
   "execution_count": 47,
   "metadata": {},
   "outputs": [
    {
     "name": "stdout",
     "output_type": "stream",
     "text": [
      "x =  [[0. 0.]]\n",
      "R =  [[1.]]\n",
      "Q = \n",
      " [[1. 0.]\n",
      " [0. 1.]]\n"
     ]
    }
   ],
   "source": [
    "from filterpy.kalman import KalmanFilter\n",
    "\n",
    "dog_filter = KalmanFilter(dim_x=2, dim_z=1)\n",
    "print('x = ', dog_filter.x.T)                       # 状态变量初始值\n",
    "print('R = ', dog_filter.R)                         # 传感器的方差\n",
    "print('Q = \\n', dog_filter.Q)                       # 过程模型的噪声协方差"
   ]
  },
  {
   "cell_type": "markdown",
   "metadata": {},
   "source": [
    "现在，我们为我们的问题初始化了有效的矩阵和向量的值。我把它放在一个辅助函数中，以允许您为 `R`, `P`和 `Q`指定不同的初始值。我们将创建和运行其中的许多过滤器，这为我们节省了很多麻烦。"
   ]
  },
  {
   "cell_type": "code",
   "execution_count": 50,
   "metadata": {},
   "outputs": [],
   "source": [
    "from filterpy.kalman import KalmanFilter\n",
    "from filterpy.common import Q_discrete_white_noise\n",
    "\n",
    "def pos_vel_filter(x, P, R, Q=0., dt=1.0):\n",
    "    '''\n",
    "        返回一个恒定速度模型的卡尔曼滤波器, 状态是[x dx].T\n",
    "    '''\n",
    "    kf = KalmanFilter(dim_x=2, dim_z=1)\n",
    "    kf.x = np.array([x[0], x[1]])                   # 位置和速度, 维度是[2, 1]\n",
    "    kf.F = np.array([[1., dt],\n",
    "                     [0, 1]])                       # 状态转移矩阵, 维度是[2, 2]\n",
    "    \n",
    "    kf.H = np.array([[1., 0]])                      # 测量函数, 维度是[1, 2]\n",
    "    kf.R *= R                                       # 测量的不确定性, 维度是[1, 1]\n",
    "    \n",
    "    if np.isscalar(P):\n",
    "        kf.P *= P                                   # 状态的协方差矩阵\n",
    "    else:\n",
    "        kf.P[:] = P                                 # [:] 表示深拷贝\n",
    "        \n",
    "    if np.isscalar(Q):\n",
    "        kf.Q = Q_discrete_white_noise(dim=2, dt=dt, var=Q)          # 过程模型噪声\n",
    "    else:\n",
    "        kf.Q[:] = Q\n",
    "        \n",
    "    return kf"
   ]
  },
  {
   "cell_type": "markdown",
   "metadata": {},
   "source": [
    "`KalmanFilter` 初始化 `R`, `P`, 和 `Q` 为单位矩阵, 因此`kf.P *= P`是一种快速指派所有对角线元素为相同的标量的方法。现在，我们创建滤波器："
   ]
  },
  {
   "cell_type": "code",
   "execution_count": 51,
   "metadata": {},
   "outputs": [],
   "source": [
    "dt = 0.1\n",
    "x = np.array([0., 0.])\n",
    "kf = pos_vel_filter(x, P=500, R=5, Q=0.1, dt=dt)"
   ]
  },
  {
   "cell_type": "markdown",
   "metadata": {},
   "source": [
    "您可以通过在命令行上输入变量来检查筛选器所有属性的当前值。"
   ]
  },
  {
   "cell_type": "code",
   "execution_count": 52,
   "metadata": {},
   "outputs": [
    {
     "data": {
      "text/plain": [
       "KalmanFilter object\n",
       "dim_x = 2\n",
       "dim_z = 1\n",
       "dim_u = 0\n",
       "x = [0. 0.]\n",
       "P = [[500.   0.]\n",
       "     [  0. 500.]]\n",
       "x_prior = [[0. 0.]].T\n",
       "P_prior = [[1. 0.]\n",
       "           [0. 1.]]\n",
       "x_post = [[0. 0.]].T\n",
       "P_post = [[1. 0.]\n",
       "          [0. 1.]]\n",
       "F = [[1.  0.1]\n",
       "     [0.  1. ]]\n",
       "Q = [[0.    0.   ]\n",
       "     [0.    0.001]]\n",
       "R = [[5.]]\n",
       "H = [[1. 0.]]\n",
       "K = [[0. 0.]].T\n",
       "y = [[0.]]\n",
       "S = [[0.]]\n",
       "SI = [[0.]]\n",
       "M = [[0.]]\n",
       "B = None\n",
       "z = [[None]]\n",
       "log-likelihood = -708.3964185322641\n",
       "likelihood = 2.2250738585072014e-308\n",
       "mahalanobis = 0.0\n",
       "alpha = 1.0\n",
       "inv = <function inv at 0x7f4c2e39bd30>"
      ]
     },
     "execution_count": 52,
     "metadata": {},
     "output_type": "execute_result"
    }
   ],
   "source": [
    "kf"
   ]
  },
  {
   "cell_type": "markdown",
   "metadata": {},
   "source": [
    "剩下的就是编写代码来运行卡尔曼滤波器。"
   ]
  },
  {
   "cell_type": "markdown",
   "metadata": {},
   "source": []
  }
 ],
 "metadata": {
  "kernelspec": {
   "display_name": "Python 3.9.7 ('base')",
   "language": "python",
   "name": "python3"
  },
  "language_info": {
   "codemirror_mode": {
    "name": "ipython",
    "version": 3
   },
   "file_extension": ".py",
   "mimetype": "text/x-python",
   "name": "python",
   "nbconvert_exporter": "python",
   "pygments_lexer": "ipython3",
   "version": "3.9.7"
  },
  "orig_nbformat": 4,
  "vscode": {
   "interpreter": {
    "hash": "50953e0e6c035f485ae56b484f751ec20486e197a6f7e98883f9e35c32b2e4eb"
   }
  }
 },
 "nbformat": 4,
 "nbformat_minor": 2
}
