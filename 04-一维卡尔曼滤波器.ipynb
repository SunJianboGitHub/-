{
 "cells": [
  {
   "cell_type": "markdown",
   "metadata": {},
   "source": [
    "# 一维卡尔曼滤波器"
   ]
  },
  {
   "cell_type": "code",
   "execution_count": 2,
   "metadata": {},
   "outputs": [
    {
     "data": {
      "text/html": [
       "\n",
       "        <style>\n",
       "        .output_wrapper, .output {\n",
       "            height:auto !important;\n",
       "            max-height:100000px;\n",
       "        }\n",
       "        .output_scroll {\n",
       "            box-shadow:none !important;\n",
       "            webkit-box-shadow:none !important;\n",
       "        }\n",
       "        </style>\n",
       "    "
      ],
      "text/plain": [
       "<IPython.core.display.HTML object>"
      ]
     },
     "execution_count": 2,
     "metadata": {},
     "output_type": "execute_result"
    }
   ],
   "source": [
    "%matplotlib inline\n",
    "\n",
    "import lean.book_format as book_format\n",
    "book_format.set_style()"
   ]
  },
  {
   "cell_type": "markdown",
   "metadata": {},
   "source": [
    "现在我们了解了离散贝叶斯滤波器和高斯，我们准备实现卡尔曼滤波器。我们将完全按照离散贝叶斯滤波器的方式执行此操作,而不是从方程开始，我们将根据对问题的推理逐步开发代码。\n",
    "\n",
    "“一维”表示滤波器仅跟踪一个状态变量，例如 x 轴上的位置。在随后的章节中，我们将学习一种更通用的多维滤波器形式，它可以同时跟踪许多状态变量，例如位置、速度和加速度。回想一下，我们在g-h滤波器中使用速度来获得比单独跟踪位置更好的估计值。卡尔曼滤波器也是如此。\n",
    "\n",
    "那么，为什么不直接跳入滤波器的多维形式呢？老实说，数学很困难，我开发滤波器的直观方法开始崩溃。这种数学模糊了允许卡尔曼滤波器工作的相当简单的原理。\n",
    "\n",
    "因此，在本章中，我们将学习如何使用高斯来实现贝叶斯滤波器。这就是卡尔曼滤波器的全部内容 - 使用高斯的贝叶斯滤波器。在下一章中，我们将切换到多维形式，卡尔曼滤波器的全部力量将被释放！"
   ]
  },
  {
   "cell_type": "markdown",
   "metadata": {},
   "source": [
    "## 一、问题描述\n",
    "\n"
   ]
  },
  {
   "cell_type": "markdown",
   "metadata": {},
   "source": []
  }
 ],
 "metadata": {
  "kernelspec": {
   "display_name": "Python 3.9.7 ('base')",
   "language": "python",
   "name": "python3"
  },
  "language_info": {
   "codemirror_mode": {
    "name": "ipython",
    "version": 3
   },
   "file_extension": ".py",
   "mimetype": "text/x-python",
   "name": "python",
   "nbconvert_exporter": "python",
   "pygments_lexer": "ipython3",
   "version": "3.9.7"
  },
  "orig_nbformat": 4,
  "vscode": {
   "interpreter": {
    "hash": "50953e0e6c035f485ae56b484f751ec20486e197a6f7e98883f9e35c32b2e4eb"
   }
  }
 },
 "nbformat": 4,
 "nbformat_minor": 2
}
